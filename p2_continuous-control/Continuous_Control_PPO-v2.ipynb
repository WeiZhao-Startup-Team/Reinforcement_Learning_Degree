{
 "cells": [
  {
   "cell_type": "markdown",
   "metadata": {},
   "source": [
    "# Continuous Control\n",
    "\n",
    "---\n",
    "\n",
    "In this notebook, you will learn how to use the Unity ML-Agents environment for the second project of the [Deep Reinforcement Learning Nanodegree](https://www.udacity.com/course/deep-reinforcement-learning-nanodegree--nd893) program.\n",
    "\n",
    "### 1. Start the Environment\n",
    "\n",
    "We begin by importing the necessary packages.  If the code cell below returns an error, please revisit the project instructions to double-check that you have installed [Unity ML-Agents](https://github.com/Unity-Technologies/ml-agents/blob/master/docs/Installation.md) and [NumPy](http://www.numpy.org/)."
   ]
  },
  {
   "cell_type": "code",
   "execution_count": 1,
   "metadata": {},
   "outputs": [],
   "source": [
    "from unityagents import UnityEnvironment\n",
    "import numpy as np"
   ]
  },
  {
   "cell_type": "code",
   "execution_count": 2,
   "metadata": {},
   "outputs": [],
   "source": [
    "!rm -rf ./runs/ppo/"
   ]
  },
  {
   "cell_type": "markdown",
   "metadata": {},
   "source": [
    "Next, we will start the environment!  **_Before running the code cell below_**, change the `file_name` parameter to match the location of the Unity environment that you downloaded.\n",
    "\n",
    "- **Mac**: `\"path/to/Reacher.app\"`\n",
    "- **Windows** (x86): `\"path/to/Reacher_Windows_x86/Reacher.exe\"`\n",
    "- **Windows** (x86_64): `\"path/to/Reacher_Windows_x86_64/Reacher.exe\"`\n",
    "- **Linux** (x86): `\"path/to/Reacher_Linux/Reacher.x86\"`\n",
    "- **Linux** (x86_64): `\"path/to/Reacher_Linux/Reacher.x86_64\"`\n",
    "- **Linux** (x86, headless): `\"path/to/Reacher_Linux_NoVis/Reacher.x86\"`\n",
    "- **Linux** (x86_64, headless): `\"path/to/Reacher_Linux_NoVis/Reacher.x86_64\"`\n",
    "\n",
    "For instance, if you are using a Mac, then you downloaded `Reacher.app`.  If this file is in the same folder as the notebook, then the line below should appear as follows:\n",
    "```\n",
    "env = UnityEnvironment(file_name=\"Reacher.app\")\n",
    "```"
   ]
  },
  {
   "cell_type": "code",
   "execution_count": 3,
   "metadata": {
    "scrolled": true
   },
   "outputs": [
    {
     "name": "stderr",
     "output_type": "stream",
     "text": [
      "INFO:unityagents:\n",
      "'Academy' started successfully!\n",
      "Unity Academy name: Academy\n",
      "        Number of Brains: 1\n",
      "        Number of External Brains : 1\n",
      "        Lesson number : 0\n",
      "        Reset Parameters :\n",
      "\t\tgoal_speed -> 1.0\n",
      "\t\tgoal_size -> 5.0\n",
      "Unity brain name: ReacherBrain\n",
      "        Number of Visual Observations (per agent): 0\n",
      "        Vector Observation space type: continuous\n",
      "        Vector Observation space size (per agent): 33\n",
      "        Number of stacked Vector Observation: 1\n",
      "        Vector Action space type: continuous\n",
      "        Vector Action space size (per agent): 4\n",
      "        Vector Action descriptions: , , , \n"
     ]
    }
   ],
   "source": [
    "# env = UnityEnvironment(file_name='./Reacher_Windows_x86_64/Reacher.exe')\n",
    "env = UnityEnvironment(file_name='./Reacher_Windows_x86_64_v1/Reacher.exe')"
   ]
  },
  {
   "cell_type": "markdown",
   "metadata": {},
   "source": [
    "Environments contain **_brains_** which are responsible for deciding the actions of their associated agents. Here we check for the first brain available, and set it as the default brain we will be controlling from Python."
   ]
  },
  {
   "cell_type": "code",
   "execution_count": 4,
   "metadata": {},
   "outputs": [],
   "source": [
    "# get the default brain\n",
    "brain_name = env.brain_names[0]\n",
    "brain = env.brains[brain_name]"
   ]
  },
  {
   "cell_type": "markdown",
   "metadata": {},
   "source": [
    "### 2. Examine the State and Action Spaces\n",
    "\n",
    "In this environment, a double-jointed arm can move to target locations. A reward of `+0.1` is provided for each step that the agent's hand is in the goal location. Thus, the goal of your agent is to maintain its position at the target location for as many time steps as possible.\n",
    "\n",
    "The observation space consists of `33` variables corresponding to position, rotation, velocity, and angular velocities of the arm.  Each action is a vector with four numbers, corresponding to torque applicable to two joints.  Every entry in the action vector must be a number between `-1` and `1`.\n",
    "\n",
    "Run the code cell below to print some information about the environment."
   ]
  },
  {
   "cell_type": "code",
   "execution_count": 5,
   "metadata": {},
   "outputs": [
    {
     "name": "stdout",
     "output_type": "stream",
     "text": [
      "Number of agents: 1\n",
      "Size of each action: 4\n",
      "There are 1 agents. Each observes a state with length: 33\n",
      "The state for the first agent looks like: [ 0.00000000e+00 -4.00000000e+00  0.00000000e+00  1.00000000e+00\n",
      " -0.00000000e+00 -0.00000000e+00 -4.37113883e-08  0.00000000e+00\n",
      "  0.00000000e+00  0.00000000e+00  0.00000000e+00  0.00000000e+00\n",
      "  0.00000000e+00  0.00000000e+00 -1.00000000e+01  0.00000000e+00\n",
      "  1.00000000e+00 -0.00000000e+00 -0.00000000e+00 -4.37113883e-08\n",
      "  0.00000000e+00  0.00000000e+00  0.00000000e+00  0.00000000e+00\n",
      "  0.00000000e+00  0.00000000e+00  5.75471878e+00 -1.00000000e+00\n",
      "  5.55726671e+00  0.00000000e+00  1.00000000e+00  0.00000000e+00\n",
      " -1.68164849e-01]\n"
     ]
    }
   ],
   "source": [
    "# reset the environment\n",
    "env_info = env.reset(train_mode=True)[brain_name]\n",
    "\n",
    "# number of agents\n",
    "num_agents = len(env_info.agents)\n",
    "print('Number of agents:', num_agents)\n",
    "\n",
    "# size of each action\n",
    "action_size = brain.vector_action_space_size\n",
    "print('Size of each action:', action_size)\n",
    "\n",
    "# examine the state space \n",
    "states = env_info.vector_observations\n",
    "state_size = states.shape[1]\n",
    "print('There are {} agents. Each observes a state with length: {}'.format(states.shape[0], state_size))\n",
    "print('The state for the first agent looks like:', states[0])"
   ]
  },
  {
   "cell_type": "markdown",
   "metadata": {},
   "source": [
    "When finished, you can close the environment."
   ]
  },
  {
   "cell_type": "markdown",
   "metadata": {},
   "source": [
    "### 4. It's Your Turn!\n",
    "\n",
    "Now it's your turn to train your own agent to solve the environment!  When training the environment, set `train_mode=True`, so that the line for resetting the environment looks like the following:\n",
    "```python\n",
    "env_info = env.reset(train_mode=True)[brain_name]\n",
    "```"
   ]
  },
  {
   "cell_type": "code",
   "execution_count": 6,
   "metadata": {},
   "outputs": [],
   "source": [
    "import random\n",
    "import torch\n",
    "import numpy as np\n",
    "from collections import deque\n",
    "\n",
    "import matplotlib.pyplot as plt\n",
    "%matplotlib inline"
   ]
  },
  {
   "cell_type": "code",
   "execution_count": 7,
   "metadata": {},
   "outputs": [],
   "source": [
    "import pdb"
   ]
  },
  {
   "cell_type": "code",
   "execution_count": 8,
   "metadata": {},
   "outputs": [
    {
     "name": "stderr",
     "output_type": "stream",
     "text": [
      "E:\\Anaconda2\\envs\\drlnd\\lib\\site-packages\\tensorboard\\compat\\tensorflow_stub\\dtypes.py:541: FutureWarning: Passing (type, 1) or '1type' as a synonym of type is deprecated; in a future version of numpy, it will be understood as (type, (1,)) / '(1,)type'.\n",
      "  _np_qint8 = np.dtype([(\"qint8\", np.int8, 1)])\n",
      "E:\\Anaconda2\\envs\\drlnd\\lib\\site-packages\\tensorboard\\compat\\tensorflow_stub\\dtypes.py:542: FutureWarning: Passing (type, 1) or '1type' as a synonym of type is deprecated; in a future version of numpy, it will be understood as (type, (1,)) / '(1,)type'.\n",
      "  _np_quint8 = np.dtype([(\"quint8\", np.uint8, 1)])\n",
      "E:\\Anaconda2\\envs\\drlnd\\lib\\site-packages\\tensorboard\\compat\\tensorflow_stub\\dtypes.py:543: FutureWarning: Passing (type, 1) or '1type' as a synonym of type is deprecated; in a future version of numpy, it will be understood as (type, (1,)) / '(1,)type'.\n",
      "  _np_qint16 = np.dtype([(\"qint16\", np.int16, 1)])\n",
      "E:\\Anaconda2\\envs\\drlnd\\lib\\site-packages\\tensorboard\\compat\\tensorflow_stub\\dtypes.py:544: FutureWarning: Passing (type, 1) or '1type' as a synonym of type is deprecated; in a future version of numpy, it will be understood as (type, (1,)) / '(1,)type'.\n",
      "  _np_quint16 = np.dtype([(\"quint16\", np.uint16, 1)])\n",
      "E:\\Anaconda2\\envs\\drlnd\\lib\\site-packages\\tensorboard\\compat\\tensorflow_stub\\dtypes.py:545: FutureWarning: Passing (type, 1) or '1type' as a synonym of type is deprecated; in a future version of numpy, it will be understood as (type, (1,)) / '(1,)type'.\n",
      "  _np_qint32 = np.dtype([(\"qint32\", np.int32, 1)])\n",
      "E:\\Anaconda2\\envs\\drlnd\\lib\\site-packages\\tensorboard\\compat\\tensorflow_stub\\dtypes.py:550: FutureWarning: Passing (type, 1) or '1type' as a synonym of type is deprecated; in a future version of numpy, it will be understood as (type, (1,)) / '(1,)type'.\n",
      "  np_resource = np.dtype([(\"resource\", np.ubyte, 1)])\n"
     ]
    }
   ],
   "source": [
    "from torch.utils.tensorboard import SummaryWriter\n",
    "writer = SummaryWriter('runs/ppo')"
   ]
  },
  {
   "cell_type": "code",
   "execution_count": 9,
   "metadata": {},
   "outputs": [],
   "source": [
    "device = torch.device(\"cuda:0\" if torch.cuda.is_available() else \"cpu\")"
   ]
  },
  {
   "cell_type": "code",
   "execution_count": 10,
   "metadata": {},
   "outputs": [],
   "source": [
    "%load_ext tensorboard"
   ]
  },
  {
   "cell_type": "code",
   "execution_count": 11,
   "metadata": {},
   "outputs": [],
   "source": [
    "import ppo_model\n",
    "import ppo_util\n",
    "\n",
    "from ppo_model import Policy\n",
    "from ppo_util import clipped_surrogate, collect_trajectories, normalize_reward"
   ]
  },
  {
   "cell_type": "code",
   "execution_count": 12,
   "metadata": {},
   "outputs": [],
   "source": [
    "policy=Policy(state_size=state_size, action_size=action_size, seed=123).to(device)\n",
    "# we use the adam optimizer with learning rate 2e-4\n",
    "# optim.SGD is also possible\n",
    "import torch.optim as optim\n",
    "optimizer = optim.Adam(policy.parameters(), lr=1e-4)"
   ]
  },
  {
   "cell_type": "code",
   "execution_count": 13,
   "metadata": {},
   "outputs": [],
   "source": [
    "def ppo(n_episodes=100, print_every=10, tmax=200, discount= 0.99, optimization_epochs=5, mini_batch_size=64, beta=0.5):\n",
    "    scores_deque = deque(maxlen=print_every)\n",
    "    # keep track of progress\n",
    "    scores = []\n",
    "    g_step = 0\n",
    "    for i_episode in range(1, n_episodes+1):\n",
    "        score    = 0\n",
    "        env_info = env.reset(train_mode=True)[brain_name]\n",
    "        states   = env_info.vector_observations\n",
    "        state    = states[0]\n",
    "        # start all random parallel agents\n",
    "        actions = np.random.randn(num_agents, action_size) # select an action (for each agent)\n",
    "        actions = np.clip(actions, -1, 1)                  # all actions between -1 and 1\n",
    "        action = torch.from_numpy(actions[0]).float().to(device)\n",
    "        while True:\n",
    "            old_probs, states, actions, rewards, done = collect_trajectories(env, brain_name, policy, state, action, num_agents, action_size, tmax=tmax)\n",
    "            step_rewards = np.sum(rewards, axis=0)\n",
    "            score += step_rewards\n",
    "            if done:\n",
    "                break \n",
    "            state  = states[-1]\n",
    "            action = actions[-1]          \n",
    "            rewards_normalized = normalize_reward(rewards, discount)\n",
    "            writer.add_scalar('rewards', step_rewards, g_step)\n",
    "            writer.add_scalar('action_1', action[0], g_step)\n",
    "            writer.add_scalar('action_2', action[1], g_step)\n",
    "            writer.add_scalar('action_3', action[2], g_step)\n",
    "            writer.add_scalar('action_4', action[3], g_step)\n",
    "            for _ in range(optimization_epochs):\n",
    "                sampler = np.random.choice(len(rewards_normalized), mini_batch_size)\n",
    "                sample_old_probs = [old_probs[sample] for sample in sampler]\n",
    "                sample_states    = [states[sample] for sample in sampler ]\n",
    "                sample_actions   = [actions[sample] for sample in sampler ]\n",
    "                sample_rewards   = [rewards_normalized[sample] for sample in sampler]\n",
    "#                 pdb.set_trace()\n",
    "                L = -clipped_surrogate(policy, sample_old_probs, sample_states, sample_actions, sample_rewards, beta=beta)\n",
    "                writer.add_scalar('loss', L, g_step)\n",
    "                optimizer.zero_grad()\n",
    "                L.backward()\n",
    "                optimizer.step()\n",
    "                g_step += 1\n",
    "#                 del L\n",
    "                # the regulation term also reduces\n",
    "                # this reduces exploration in later runs\n",
    "                beta*=.995\n",
    "                writer.add_scalar('beta', beta, g_step)\n",
    "        # get the average reward of the parallel environments           \n",
    "        scores.append(np.mean(score))\n",
    "        scores_deque.append(np.mean(score))\n",
    "        print('\\rEpisode {}\\tAverage Score: {:.2f}'.format(i_episode, np.mean(scores_deque)), end=\"\")\n",
    "        torch.save(policy.state_dict(), 'checkpoint_ppo.pth')\n",
    "        if i_episode % print_every == 0:\n",
    "            print('\\rEpisode {}\\tAverage Score: {:.2f}'.format(i_episode, np.mean(scores_deque)))\n",
    "    return scores"
   ]
  },
  {
   "cell_type": "code",
   "execution_count": 16,
   "metadata": {
    "scrolled": true
   },
   "outputs": [
    {
     "name": "stdout",
     "output_type": "stream",
     "text": [
      "Episode 10\tAverage Score: 0.76\n",
      "Episode 20\tAverage Score: 0.86\n",
      "Episode 30\tAverage Score: 0.96\n",
      "Episode 40\tAverage Score: 0.89\n",
      "Episode 50\tAverage Score: 1.12\n",
      "Episode 60\tAverage Score: 0.93\n",
      "Episode 70\tAverage Score: 0.91\n",
      "Episode 80\tAverage Score: 0.88\n",
      "Episode 90\tAverage Score: 0.61\n",
      "Episode 100\tAverage Score: 0.88\n",
      "Episode 110\tAverage Score: 0.72\n",
      "Episode 120\tAverage Score: 0.84\n",
      "Episode 130\tAverage Score: 0.96\n",
      "Episode 140\tAverage Score: 0.67\n",
      "Episode 150\tAverage Score: 0.65\n",
      "Episode 160\tAverage Score: 0.92\n",
      "Episode 170\tAverage Score: 1.03\n",
      "Episode 180\tAverage Score: 0.83\n",
      "Episode 190\tAverage Score: 0.73\n",
      "Episode 200\tAverage Score: 0.79\n",
      "Episode 210\tAverage Score: 0.80\n",
      "Episode 220\tAverage Score: 0.89\n",
      "Episode 230\tAverage Score: 0.60\n",
      "Episode 240\tAverage Score: 0.67\n",
      "Episode 250\tAverage Score: 0.97\n",
      "Episode 260\tAverage Score: 0.80\n",
      "Episode 270\tAverage Score: 0.91\n",
      "Episode 280\tAverage Score: 0.76\n",
      "Episode 290\tAverage Score: 0.50\n",
      "Episode 300\tAverage Score: 0.67\n",
      "Episode 310\tAverage Score: 0.70\n",
      "Episode 320\tAverage Score: 0.76\n",
      "Episode 330\tAverage Score: 0.62\n",
      "Episode 340\tAverage Score: 0.72\n",
      "Episode 350\tAverage Score: 0.69\n",
      "Episode 360\tAverage Score: 0.69\n",
      "Episode 370\tAverage Score: 0.87\n",
      "Episode 380\tAverage Score: 0.78\n",
      "Episode 390\tAverage Score: 0.60\n",
      "Episode 400\tAverage Score: 0.80\n",
      "Episode 410\tAverage Score: 0.71\n",
      "Episode 420\tAverage Score: 0.61\n",
      "Episode 430\tAverage Score: 0.60\n",
      "Episode 440\tAverage Score: 0.85\n",
      "Episode 450\tAverage Score: 0.79\n",
      "Episode 460\tAverage Score: 0.62\n",
      "Episode 470\tAverage Score: 0.58\n",
      "Episode 480\tAverage Score: 0.60\n",
      "Episode 490\tAverage Score: 0.74\n",
      "Episode 500\tAverage Score: 0.87\n",
      "Episode 510\tAverage Score: 0.50\n",
      "Episode 520\tAverage Score: 0.55\n",
      "Episode 530\tAverage Score: 0.74\n",
      "Episode 540\tAverage Score: 0.91\n",
      "Episode 550\tAverage Score: 0.66\n",
      "Episode 560\tAverage Score: 0.58\n",
      "Episode 570\tAverage Score: 0.70\n",
      "Episode 580\tAverage Score: 0.50\n",
      "Episode 590\tAverage Score: 0.72\n",
      "Episode 600\tAverage Score: 0.53\n",
      "Episode 610\tAverage Score: 0.58\n",
      "Episode 620\tAverage Score: 0.74\n",
      "Episode 630\tAverage Score: 0.75\n",
      "Episode 640\tAverage Score: 0.65\n",
      "Episode 650\tAverage Score: 0.66\n",
      "Episode 660\tAverage Score: 0.58\n",
      "Episode 670\tAverage Score: 0.57\n",
      "Episode 680\tAverage Score: 0.66\n",
      "Episode 690\tAverage Score: 0.68\n",
      "Episode 700\tAverage Score: 0.99\n",
      "Episode 710\tAverage Score: 0.66\n",
      "Episode 720\tAverage Score: 0.69\n",
      "Episode 730\tAverage Score: 0.76\n",
      "Episode 740\tAverage Score: 0.75\n",
      "Episode 750\tAverage Score: 0.54\n",
      "Episode 760\tAverage Score: 0.52\n",
      "Episode 770\tAverage Score: 0.26\n",
      "Episode 780\tAverage Score: 0.81\n",
      "Episode 790\tAverage Score: 0.70\n",
      "Episode 800\tAverage Score: 0.78\n",
      "Episode 810\tAverage Score: 0.88\n",
      "Episode 820\tAverage Score: 0.64\n",
      "Episode 830\tAverage Score: 0.76\n",
      "Episode 840\tAverage Score: 0.87\n",
      "Episode 850\tAverage Score: 0.81\n",
      "Episode 860\tAverage Score: 0.62\n",
      "Episode 870\tAverage Score: 0.67\n",
      "Episode 880\tAverage Score: 0.75\n",
      "Episode 890\tAverage Score: 0.58\n",
      "Episode 900\tAverage Score: 0.87\n",
      "Episode 910\tAverage Score: 0.63\n",
      "Episode 920\tAverage Score: 0.54\n",
      "Episode 930\tAverage Score: 0.98\n",
      "Episode 940\tAverage Score: 0.69\n",
      "Episode 950\tAverage Score: 0.70\n",
      "Episode 960\tAverage Score: 0.76\n",
      "Episode 970\tAverage Score: 0.67\n",
      "Episode 980\tAverage Score: 0.69\n",
      "Episode 990\tAverage Score: 0.69\n",
      "Episode 1000\tAverage Score: 0.75\n",
      "Episode 1010\tAverage Score: 1.01\n",
      "Episode 1020\tAverage Score: 0.92\n",
      "Episode 1030\tAverage Score: 0.76\n",
      "Episode 1040\tAverage Score: 1.06\n",
      "Episode 1050\tAverage Score: 0.95\n",
      "Episode 1060\tAverage Score: 0.83\n",
      "Episode 1070\tAverage Score: 0.82\n",
      "Episode 1080\tAverage Score: 0.86\n",
      "Episode 1090\tAverage Score: 1.00\n",
      "Episode 1100\tAverage Score: 0.90\n",
      "Episode 1110\tAverage Score: 1.10\n",
      "Episode 1120\tAverage Score: 0.96\n",
      "Episode 1130\tAverage Score: 0.90\n",
      "Episode 1140\tAverage Score: 1.05\n",
      "Episode 1150\tAverage Score: 0.76\n",
      "Episode 1160\tAverage Score: 1.02\n",
      "Episode 1170\tAverage Score: 0.93\n",
      "Episode 1180\tAverage Score: 0.97\n",
      "Episode 1190\tAverage Score: 0.88\n",
      "Episode 1200\tAverage Score: 0.87\n",
      "Episode 1210\tAverage Score: 1.11\n",
      "Episode 1220\tAverage Score: 1.21\n",
      "Episode 1230\tAverage Score: 1.04\n",
      "Episode 1240\tAverage Score: 0.95\n",
      "Episode 1250\tAverage Score: 0.78\n",
      "Episode 1260\tAverage Score: 1.04\n",
      "Episode 1270\tAverage Score: 0.73\n",
      "Episode 1280\tAverage Score: 1.16\n",
      "Episode 1290\tAverage Score: 0.87\n",
      "Episode 1300\tAverage Score: 1.13\n",
      "Episode 1310\tAverage Score: 0.88\n",
      "Episode 1320\tAverage Score: 1.00\n",
      "Episode 1330\tAverage Score: 0.97\n",
      "Episode 1334\tAverage Score: 1.01"
     ]
    },
    {
     "name": "stderr",
     "output_type": "stream",
     "text": [
      "ERROR:root:Exception calling application: invalid load key, '\\x7f'.\n",
      "Traceback (most recent call last):\n",
      "  File \"E:\\Anaconda2\\envs\\drlnd\\lib\\site-packages\\grpc\\_server.py\", line 385, in _call_behavior\n",
      "    return behavior(argument, context), True\n",
      "  File \"E:\\Anaconda2\\envs\\drlnd\\lib\\site-packages\\unityagents\\rpc_communicator.py\", line 26, in Exchange\n",
      "    return self.child_conn.recv()\n",
      "  File \"E:\\Anaconda2\\envs\\drlnd\\lib\\multiprocessing\\connection.py\", line 251, in recv\n",
      "    return _ForkingPickler.loads(buf.getbuffer())\n",
      "_pickle.UnpicklingError: invalid load key, '\\x7f'.\n",
      "ERROR:root:Exception calling application: \n",
      "Traceback (most recent call last):\n",
      "  File \"E:\\Anaconda2\\envs\\drlnd\\lib\\site-packages\\grpc\\_server.py\", line 385, in _call_behavior\n",
      "    return behavior(argument, context), True\n",
      "  File \"E:\\Anaconda2\\envs\\drlnd\\lib\\site-packages\\unityagents\\rpc_communicator.py\", line 26, in Exchange\n",
      "    return self.child_conn.recv()\n",
      "  File \"E:\\Anaconda2\\envs\\drlnd\\lib\\multiprocessing\\connection.py\", line 250, in recv\n",
      "    buf = self._recv_bytes()\n",
      "  File \"E:\\Anaconda2\\envs\\drlnd\\lib\\multiprocessing\\connection.py\", line 318, in _recv_bytes\n",
      "    return self._get_more_data(ov, maxsize)\n",
      "  File \"E:\\Anaconda2\\envs\\drlnd\\lib\\multiprocessing\\connection.py\", line 337, in _get_more_data\n",
      "    assert left > 0\n",
      "AssertionError\n"
     ]
    },
    {
     "ename": "KeyError",
     "evalue": "'ReacherBrain'",
     "output_type": "error",
     "traceback": [
      "\u001b[1;31m---------------------------------------------------------------------------\u001b[0m",
      "\u001b[1;31mKeyError\u001b[0m                                  Traceback (most recent call last)",
      "\u001b[1;32m<ipython-input-16-2b504a3af2ca>\u001b[0m in \u001b[0;36m<module>\u001b[1;34m\u001b[0m\n\u001b[1;32m----> 1\u001b[1;33m \u001b[0mscores\u001b[0m \u001b[1;33m=\u001b[0m \u001b[0mppo\u001b[0m\u001b[1;33m(\u001b[0m\u001b[0mn_episodes\u001b[0m\u001b[1;33m=\u001b[0m\u001b[1;36m2000\u001b[0m\u001b[1;33m)\u001b[0m\u001b[1;33m\u001b[0m\u001b[1;33m\u001b[0m\u001b[0m\n\u001b[0m",
      "\u001b[1;32m<ipython-input-13-865803d6f107>\u001b[0m in \u001b[0;36mppo\u001b[1;34m(n_episodes, print_every, tmax, discount, optimization_epochs, mini_batch_size, beta)\u001b[0m\n\u001b[0;32m     14\u001b[0m         \u001b[0maction\u001b[0m \u001b[1;33m=\u001b[0m \u001b[0mtorch\u001b[0m\u001b[1;33m.\u001b[0m\u001b[0mfrom_numpy\u001b[0m\u001b[1;33m(\u001b[0m\u001b[0mactions\u001b[0m\u001b[1;33m[\u001b[0m\u001b[1;36m0\u001b[0m\u001b[1;33m]\u001b[0m\u001b[1;33m)\u001b[0m\u001b[1;33m.\u001b[0m\u001b[0mfloat\u001b[0m\u001b[1;33m(\u001b[0m\u001b[1;33m)\u001b[0m\u001b[1;33m.\u001b[0m\u001b[0mto\u001b[0m\u001b[1;33m(\u001b[0m\u001b[0mdevice\u001b[0m\u001b[1;33m)\u001b[0m\u001b[1;33m\u001b[0m\u001b[1;33m\u001b[0m\u001b[0m\n\u001b[0;32m     15\u001b[0m         \u001b[1;32mwhile\u001b[0m \u001b[1;32mTrue\u001b[0m\u001b[1;33m:\u001b[0m\u001b[1;33m\u001b[0m\u001b[1;33m\u001b[0m\u001b[0m\n\u001b[1;32m---> 16\u001b[1;33m             \u001b[0mold_probs\u001b[0m\u001b[1;33m,\u001b[0m \u001b[0mstates\u001b[0m\u001b[1;33m,\u001b[0m \u001b[0mactions\u001b[0m\u001b[1;33m,\u001b[0m \u001b[0mrewards\u001b[0m\u001b[1;33m,\u001b[0m \u001b[0mdone\u001b[0m \u001b[1;33m=\u001b[0m \u001b[0mcollect_trajectories\u001b[0m\u001b[1;33m(\u001b[0m\u001b[0menv\u001b[0m\u001b[1;33m,\u001b[0m \u001b[0mbrain_name\u001b[0m\u001b[1;33m,\u001b[0m \u001b[0mpolicy\u001b[0m\u001b[1;33m,\u001b[0m \u001b[0mstate\u001b[0m\u001b[1;33m,\u001b[0m \u001b[0maction\u001b[0m\u001b[1;33m,\u001b[0m \u001b[0mnum_agents\u001b[0m\u001b[1;33m,\u001b[0m \u001b[0maction_size\u001b[0m\u001b[1;33m,\u001b[0m \u001b[0mtmax\u001b[0m\u001b[1;33m=\u001b[0m\u001b[0mtmax\u001b[0m\u001b[1;33m)\u001b[0m\u001b[1;33m\u001b[0m\u001b[1;33m\u001b[0m\u001b[0m\n\u001b[0m\u001b[0;32m     17\u001b[0m             \u001b[0mstep_rewards\u001b[0m \u001b[1;33m=\u001b[0m \u001b[0mnp\u001b[0m\u001b[1;33m.\u001b[0m\u001b[0msum\u001b[0m\u001b[1;33m(\u001b[0m\u001b[0mrewards\u001b[0m\u001b[1;33m,\u001b[0m \u001b[0maxis\u001b[0m\u001b[1;33m=\u001b[0m\u001b[1;36m0\u001b[0m\u001b[1;33m)\u001b[0m\u001b[1;33m\u001b[0m\u001b[1;33m\u001b[0m\u001b[0m\n\u001b[0;32m     18\u001b[0m             \u001b[0mscore\u001b[0m \u001b[1;33m+=\u001b[0m \u001b[0mstep_rewards\u001b[0m\u001b[1;33m\u001b[0m\u001b[1;33m\u001b[0m\u001b[0m\n",
      "\u001b[1;32m~\\Downloads\\Udacity Reinforcement Learning\\deep-reinforcement-learning-master\\p2_continuous-control\\ppo_util.py\u001b[0m in \u001b[0;36mcollect_trajectories\u001b[1;34m(env, brain_name, policy, state, action, action_size, num_agents, tmax)\u001b[0m\n\u001b[0;32m     54\u001b[0m         \u001b[1;31m# we take one action and move forward\u001b[0m\u001b[1;33m\u001b[0m\u001b[1;33m\u001b[0m\u001b[1;33m\u001b[0m\u001b[0m\n\u001b[0;32m     55\u001b[0m         \u001b[0mactions\u001b[0m \u001b[1;33m=\u001b[0m \u001b[0mnp\u001b[0m\u001b[1;33m.\u001b[0m\u001b[0mexpand_dims\u001b[0m\u001b[1;33m(\u001b[0m\u001b[0maction\u001b[0m\u001b[1;33m.\u001b[0m\u001b[0mdata\u001b[0m\u001b[1;33m.\u001b[0m\u001b[0mnumpy\u001b[0m\u001b[1;33m(\u001b[0m\u001b[1;33m)\u001b[0m\u001b[1;33m,\u001b[0m \u001b[0maxis\u001b[0m\u001b[1;33m=\u001b[0m\u001b[1;36m0\u001b[0m\u001b[1;33m)\u001b[0m\u001b[1;33m\u001b[0m\u001b[1;33m\u001b[0m\u001b[0m\n\u001b[1;32m---> 56\u001b[1;33m         \u001b[0menv_info\u001b[0m    \u001b[1;33m=\u001b[0m \u001b[0menv\u001b[0m\u001b[1;33m.\u001b[0m\u001b[0mstep\u001b[0m\u001b[1;33m(\u001b[0m\u001b[0mactions\u001b[0m\u001b[1;33m)\u001b[0m\u001b[1;33m[\u001b[0m\u001b[0mbrain_name\u001b[0m\u001b[1;33m]\u001b[0m        \u001b[1;31m# send all actions to tne environment\u001b[0m\u001b[1;33m\u001b[0m\u001b[1;33m\u001b[0m\u001b[0m\n\u001b[0m\u001b[0;32m     57\u001b[0m         \u001b[0mnext_states\u001b[0m \u001b[1;33m=\u001b[0m \u001b[0menv_info\u001b[0m\u001b[1;33m.\u001b[0m\u001b[0mvector_observations\u001b[0m         \u001b[1;31m# get next state (for each agent)\u001b[0m\u001b[1;33m\u001b[0m\u001b[1;33m\u001b[0m\u001b[0m\n\u001b[0;32m     58\u001b[0m         \u001b[0mrewards\u001b[0m \u001b[1;33m=\u001b[0m \u001b[0menv_info\u001b[0m\u001b[1;33m.\u001b[0m\u001b[0mrewards\u001b[0m                         \u001b[1;31m# get reward (for each agent)\u001b[0m\u001b[1;33m\u001b[0m\u001b[1;33m\u001b[0m\u001b[0m\n",
      "\u001b[1;32mE:\\Anaconda2\\envs\\drlnd\\lib\\site-packages\\unityagents\\environment.py\u001b[0m in \u001b[0;36mstep\u001b[1;34m(self, vector_action, memory, text_action)\u001b[0m\n\u001b[0;32m    375\u001b[0m             \u001b[0mself\u001b[0m\u001b[1;33m.\u001b[0m\u001b[0m_global_done\u001b[0m \u001b[1;33m=\u001b[0m \u001b[0ms\u001b[0m\u001b[1;33m[\u001b[0m\u001b[1;36m1\u001b[0m\u001b[1;33m]\u001b[0m\u001b[1;33m\u001b[0m\u001b[1;33m\u001b[0m\u001b[0m\n\u001b[0;32m    376\u001b[0m             \u001b[1;32mfor\u001b[0m \u001b[0m_b\u001b[0m \u001b[1;32min\u001b[0m \u001b[0mself\u001b[0m\u001b[1;33m.\u001b[0m\u001b[0m_external_brain_names\u001b[0m\u001b[1;33m:\u001b[0m\u001b[1;33m\u001b[0m\u001b[1;33m\u001b[0m\u001b[0m\n\u001b[1;32m--> 377\u001b[1;33m                 \u001b[0mself\u001b[0m\u001b[1;33m.\u001b[0m\u001b[0m_n_agents\u001b[0m\u001b[1;33m[\u001b[0m\u001b[0m_b\u001b[0m\u001b[1;33m]\u001b[0m \u001b[1;33m=\u001b[0m \u001b[0mlen\u001b[0m\u001b[1;33m(\u001b[0m\u001b[0ms\u001b[0m\u001b[1;33m[\u001b[0m\u001b[1;36m0\u001b[0m\u001b[1;33m]\u001b[0m\u001b[1;33m[\u001b[0m\u001b[0m_b\u001b[0m\u001b[1;33m]\u001b[0m\u001b[1;33m.\u001b[0m\u001b[0magents\u001b[0m\u001b[1;33m)\u001b[0m\u001b[1;33m\u001b[0m\u001b[1;33m\u001b[0m\u001b[0m\n\u001b[0m\u001b[0;32m    378\u001b[0m             \u001b[1;32mreturn\u001b[0m \u001b[0ms\u001b[0m\u001b[1;33m[\u001b[0m\u001b[1;36m0\u001b[0m\u001b[1;33m]\u001b[0m\u001b[1;33m\u001b[0m\u001b[1;33m\u001b[0m\u001b[0m\n\u001b[0;32m    379\u001b[0m         \u001b[1;32melif\u001b[0m \u001b[1;32mnot\u001b[0m \u001b[0mself\u001b[0m\u001b[1;33m.\u001b[0m\u001b[0m_loaded\u001b[0m\u001b[1;33m:\u001b[0m\u001b[1;33m\u001b[0m\u001b[1;33m\u001b[0m\u001b[0m\n",
      "\u001b[1;31mKeyError\u001b[0m: 'ReacherBrain'"
     ]
    }
   ],
   "source": [
    "scores = ppo(n_episodes=2000)"
   ]
  },
  {
   "cell_type": "code",
   "execution_count": 15,
   "metadata": {},
   "outputs": [
    {
     "data": {
      "text/plain": [
       "Reusing TensorBoard on port 6060 (pid 12124), started 12:46:40 ago. (Use '!kill 12124' to kill it.)"
      ]
     },
     "metadata": {},
     "output_type": "display_data"
    },
    {
     "data": {
      "text/html": [
       "\n",
       "        <iframe\n",
       "            width=\"100%\"\n",
       "            height=\"800\"\n",
       "            src=\"http://localhost:6060\"\n",
       "            frameborder=\"0\"\n",
       "            allowfullscreen\n",
       "        ></iframe>\n",
       "        "
      ],
      "text/plain": [
       "<IPython.lib.display.IFrame at 0x2033568e5f8>"
      ]
     },
     "metadata": {},
     "output_type": "display_data"
    }
   ],
   "source": [
    "%tensorboard --logdir runs/ppo --port=6060"
   ]
  },
  {
   "cell_type": "code",
   "execution_count": 51,
   "metadata": {},
   "outputs": [
    {
     "data": {
      "image/png": "[encoded data removed]",
      "text/plain": [
       "<Figure size 432x288 with 1 Axes>"
      ]
     },
     "metadata": {
      "needs_background": "light"
     },
     "output_type": "display_data"
    }
   ],
   "source": [
    "fig = plt.figure()\n",
    "ax = fig.add_subplot(111)\n",
    "plt.plot(np.arange(1, len(scores)+1), scores)\n",
    "plt.ylabel('Score')\n",
    "plt.xlabel('Episode #')\n",
    "plt.show()"
   ]
  },
  {
   "cell_type": "code",
   "execution_count": 24,
   "metadata": {},
   "outputs": [],
   "source": [
    "env.close()"
   ]
  },
  {
   "cell_type": "code",
   "execution_count": null,
   "metadata": {},
   "outputs": [],
   "source": []
  }
 ],
 "metadata": {
  "kernelspec": {
   "display_name": "drlnd",
   "language": "python",
   "name": "drlnd"
  },
  "language_info": {
   "codemirror_mode": {
    "name": "ipython",
    "version": 3
   },
   "file_extension": ".py",
   "mimetype": "text/x-python",
   "name": "python",
   "nbconvert_exporter": "python",
   "pygments_lexer": "ipython3",
   "version": "3.6.10"
  }
 },
 "nbformat": 4,
 "nbformat_minor": 2
}
