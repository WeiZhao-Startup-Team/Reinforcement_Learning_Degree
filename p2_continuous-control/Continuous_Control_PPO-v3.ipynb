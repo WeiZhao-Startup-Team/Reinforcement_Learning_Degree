{
 "cells": [
  {
   "cell_type": "markdown",
   "metadata": {},
   "source": [
    "# Continuous Control\n",
    "\n",
    "---\n",
    "\n",
    "In this notebook, you will learn how to use the Unity ML-Agents environment for the second project of the [Deep Reinforcement Learning Nanodegree](https://www.udacity.com/course/deep-reinforcement-learning-nanodegree--nd893) program.\n",
    "\n",
    "### 1. Start the Environment\n",
    "\n",
    "We begin by importing the necessary packages.  If the code cell below returns an error, please revisit the project instructions to double-check that you have installed [Unity ML-Agents](https://github.com/Unity-Technologies/ml-agents/blob/master/docs/Installation.md) and [NumPy](http://www.numpy.org/)."
   ]
  },
  {
   "cell_type": "code",
   "execution_count": 1,
   "metadata": {},
   "outputs": [],
   "source": [
    "from unityagents import UnityEnvironment\n",
    "import numpy as np"
   ]
  },
  {
   "cell_type": "markdown",
   "metadata": {},
   "source": [
    "Next, we will start the environment!  **_Before running the code cell below_**, change the `file_name` parameter to match the location of the Unity environment that you downloaded.\n",
    "\n",
    "- **Mac**: `\"path/to/Reacher.app\"`\n",
    "- **Windows** (x86): `\"path/to/Reacher_Windows_x86/Reacher.exe\"`\n",
    "- **Windows** (x86_64): `\"path/to/Reacher_Windows_x86_64/Reacher.exe\"`\n",
    "- **Linux** (x86): `\"path/to/Reacher_Linux/Reacher.x86\"`\n",
    "- **Linux** (x86_64): `\"path/to/Reacher_Linux/Reacher.x86_64\"`\n",
    "- **Linux** (x86, headless): `\"path/to/Reacher_Linux_NoVis/Reacher.x86\"`\n",
    "- **Linux** (x86_64, headless): `\"path/to/Reacher_Linux_NoVis/Reacher.x86_64\"`\n",
    "\n",
    "For instance, if you are using a Mac, then you downloaded `Reacher.app`.  If this file is in the same folder as the notebook, then the line below should appear as follows:\n",
    "```\n",
    "env = UnityEnvironment(file_name=\"Reacher.app\")\n",
    "```"
   ]
  },
  {
   "cell_type": "code",
   "execution_count": 2,
   "metadata": {
    "scrolled": true
   },
   "outputs": [
    {
     "name": "stderr",
     "output_type": "stream",
     "text": [
      "INFO:unityagents:\n",
      "'Academy' started successfully!\n",
      "Unity Academy name: Academy\n",
      "        Number of Brains: 1\n",
      "        Number of External Brains : 1\n",
      "        Lesson number : 0\n",
      "        Reset Parameters :\n",
      "\t\tgoal_speed -> 1.0\n",
      "\t\tgoal_size -> 5.0\n",
      "Unity brain name: ReacherBrain\n",
      "        Number of Visual Observations (per agent): 0\n",
      "        Vector Observation space type: continuous\n",
      "        Vector Observation space size (per agent): 33\n",
      "        Number of stacked Vector Observation: 1\n",
      "        Vector Action space type: continuous\n",
      "        Vector Action space size (per agent): 4\n",
      "        Vector Action descriptions: , , , \n"
     ]
    }
   ],
   "source": [
    "env = UnityEnvironment(file_name='./Reacher_Windows_x86_64/Reacher.exe')\n",
    "# env = UnityEnvironment(file_name='./Reacher_Windows_x86_64_v1/Reacher.exe')"
   ]
  },
  {
   "cell_type": "markdown",
   "metadata": {},
   "source": [
    "Environments contain **_brains_** which are responsible for deciding the actions of their associated agents. Here we check for the first brain available, and set it as the default brain we will be controlling from Python."
   ]
  },
  {
   "cell_type": "code",
   "execution_count": 3,
   "metadata": {},
   "outputs": [],
   "source": [
    "# get the default brain\n",
    "brain_name = env.brain_names[0]\n",
    "brain = env.brains[brain_name]"
   ]
  },
  {
   "cell_type": "markdown",
   "metadata": {},
   "source": [
    "### 2. Examine the State and Action Spaces\n",
    "\n",
    "In this environment, a double-jointed arm can move to target locations. A reward of `+0.1` is provided for each step that the agent's hand is in the goal location. Thus, the goal of your agent is to maintain its position at the target location for as many time steps as possible.\n",
    "\n",
    "The observation space consists of `33` variables corresponding to position, rotation, velocity, and angular velocities of the arm.  Each action is a vector with four numbers, corresponding to torque applicable to two joints.  Every entry in the action vector must be a number between `-1` and `1`.\n",
    "\n",
    "Run the code cell below to print some information about the environment."
   ]
  },
  {
   "cell_type": "code",
   "execution_count": 4,
   "metadata": {},
   "outputs": [
    {
     "name": "stdout",
     "output_type": "stream",
     "text": [
      "Number of agents: 20\n",
      "Size of each action: 4\n",
      "There are 20 agents. Each observes a state with length: 33\n",
      "The state for the first agent looks like: [ 0.00000000e+00 -4.00000000e+00  0.00000000e+00  1.00000000e+00\n",
      " -0.00000000e+00 -0.00000000e+00 -4.37113883e-08  0.00000000e+00\n",
      "  0.00000000e+00  0.00000000e+00  0.00000000e+00  0.00000000e+00\n",
      "  0.00000000e+00  0.00000000e+00 -1.00000000e+01  0.00000000e+00\n",
      "  1.00000000e+00 -0.00000000e+00 -0.00000000e+00 -4.37113883e-08\n",
      "  0.00000000e+00  0.00000000e+00  0.00000000e+00  0.00000000e+00\n",
      "  0.00000000e+00  0.00000000e+00  5.75471878e+00 -1.00000000e+00\n",
      "  5.55726624e+00  0.00000000e+00  1.00000000e+00  0.00000000e+00\n",
      " -1.68164849e-01]\n"
     ]
    }
   ],
   "source": [
    "# reset the environment\n",
    "env_info = env.reset(train_mode=True)[brain_name]\n",
    "\n",
    "# number of agents\n",
    "num_agents = len(env_info.agents)\n",
    "print('Number of agents:', num_agents)\n",
    "\n",
    "# size of each action\n",
    "action_size = brain.vector_action_space_size\n",
    "print('Size of each action:', action_size)\n",
    "\n",
    "# examine the state space \n",
    "states = env_info.vector_observations\n",
    "state_size = states.shape[1]\n",
    "print('There are {} agents. Each observes a state with length: {}'.format(states.shape[0], state_size))\n",
    "print('The state for the first agent looks like:', states[0])"
   ]
  },
  {
   "cell_type": "markdown",
   "metadata": {},
   "source": [
    "When finished, you can close the environment."
   ]
  },
  {
   "cell_type": "markdown",
   "metadata": {},
   "source": [
    "### 4. It's Your Turn!\n",
    "\n",
    "Now it's your turn to train your own agent to solve the environment!  When training the environment, set `train_mode=True`, so that the line for resetting the environment looks like the following:\n",
    "```python\n",
    "env_info = env.reset(train_mode=True)[brain_name]\n",
    "```"
   ]
  },
  {
   "cell_type": "code",
   "execution_count": 5,
   "metadata": {},
   "outputs": [
    {
     "name": "stderr",
     "output_type": "stream",
     "text": [
      "E:\\Anaconda2\\envs\\drlnd\\lib\\site-packages\\tensorboard\\compat\\tensorflow_stub\\dtypes.py:541: FutureWarning: Passing (type, 1) or '1type' as a synonym of type is deprecated; in a future version of numpy, it will be understood as (type, (1,)) / '(1,)type'.\n",
      "  _np_qint8 = np.dtype([(\"qint8\", np.int8, 1)])\n",
      "E:\\Anaconda2\\envs\\drlnd\\lib\\site-packages\\tensorboard\\compat\\tensorflow_stub\\dtypes.py:542: FutureWarning: Passing (type, 1) or '1type' as a synonym of type is deprecated; in a future version of numpy, it will be understood as (type, (1,)) / '(1,)type'.\n",
      "  _np_quint8 = np.dtype([(\"quint8\", np.uint8, 1)])\n",
      "E:\\Anaconda2\\envs\\drlnd\\lib\\site-packages\\tensorboard\\compat\\tensorflow_stub\\dtypes.py:543: FutureWarning: Passing (type, 1) or '1type' as a synonym of type is deprecated; in a future version of numpy, it will be understood as (type, (1,)) / '(1,)type'.\n",
      "  _np_qint16 = np.dtype([(\"qint16\", np.int16, 1)])\n",
      "E:\\Anaconda2\\envs\\drlnd\\lib\\site-packages\\tensorboard\\compat\\tensorflow_stub\\dtypes.py:544: FutureWarning: Passing (type, 1) or '1type' as a synonym of type is deprecated; in a future version of numpy, it will be understood as (type, (1,)) / '(1,)type'.\n",
      "  _np_quint16 = np.dtype([(\"quint16\", np.uint16, 1)])\n",
      "E:\\Anaconda2\\envs\\drlnd\\lib\\site-packages\\tensorboard\\compat\\tensorflow_stub\\dtypes.py:545: FutureWarning: Passing (type, 1) or '1type' as a synonym of type is deprecated; in a future version of numpy, it will be understood as (type, (1,)) / '(1,)type'.\n",
      "  _np_qint32 = np.dtype([(\"qint32\", np.int32, 1)])\n",
      "E:\\Anaconda2\\envs\\drlnd\\lib\\site-packages\\tensorboard\\compat\\tensorflow_stub\\dtypes.py:550: FutureWarning: Passing (type, 1) or '1type' as a synonym of type is deprecated; in a future version of numpy, it will be understood as (type, (1,)) / '(1,)type'.\n",
      "  np_resource = np.dtype([(\"resource\", np.ubyte, 1)])\n"
     ]
    }
   ],
   "source": [
    "import random\n",
    "import torch\n",
    "import numpy as np\n",
    "from collections import deque\n",
    "from torch.utils.tensorboard import SummaryWriter\n",
    "import matplotlib.pyplot as plt\n",
    "%matplotlib inline"
   ]
  },
  {
   "cell_type": "code",
   "execution_count": 6,
   "metadata": {},
   "outputs": [],
   "source": [
    "device = torch.device(\"cuda:0\" if torch.cuda.is_available() else \"cpu\")"
   ]
  },
  {
   "cell_type": "code",
   "execution_count": 7,
   "metadata": {},
   "outputs": [],
   "source": [
    "%load_ext tensorboard"
   ]
  },
  {
   "cell_type": "code",
   "execution_count": 75,
   "metadata": {},
   "outputs": [
    {
     "data": {
      "text/plain": [
       "Reusing TensorBoard on port 6071 (pid 24188), started 9:38:00 ago. (Use '!kill 24188' to kill it.)"
      ]
     },
     "metadata": {},
     "output_type": "display_data"
    },
    {
     "data": {
      "text/html": [
       "\n",
       "        <iframe\n",
       "            width=\"100%\"\n",
       "            height=\"800\"\n",
       "            src=\"http://localhost:6071\"\n",
       "            frameborder=\"0\"\n",
       "            allowfullscreen\n",
       "        ></iframe>\n",
       "        "
      ],
      "text/plain": [
       "<IPython.lib.display.IFrame at 0x188fedf5550>"
      ]
     },
     "metadata": {},
     "output_type": "display_data"
    }
   ],
   "source": [
    "%tensorboard --logdir runs/ppo --port=6071"
   ]
  },
  {
   "cell_type": "code",
   "execution_count": 11,
   "metadata": {},
   "outputs": [],
   "source": [
    "import ppo_model\n",
    "import ppo_util\n",
    "\n",
    "from ppo_model import Policy\n",
    "from ppo_util import clipped_surrogate, collect_trajectories, normalize_reward"
   ]
  },
  {
   "cell_type": "code",
   "execution_count": 12,
   "metadata": {},
   "outputs": [],
   "source": [
    "def collect_trajectories(env, brain_name, policy, states, actions, action_size, num_agents=1, tmax=50): \n",
    "    #initialize returning lists and start the game!\n",
    "    state_list=[]\n",
    "    reward_list=[]\n",
    "    prob_list=[]\n",
    "    action_list=[]\n",
    "    done = False\n",
    "# collect trajectories\n",
    "    for t in range(tmax):\n",
    "        states  = torch.from_numpy(states).float().to(device)\n",
    "        actions = torch.from_numpy(actions).float().to(device)\n",
    "        # probs will only be used as the pi_old\n",
    "        # no gradient propagation is needed\n",
    "        actions, log_probs = policy(states, actions)\n",
    "        actions = actions.detach()\n",
    "        log_probs = log_probs.detach()\n",
    "\n",
    "        # we take one action and move forward\n",
    "        actions = actions.data.numpy()\n",
    "        env_info    = env.step(actions)[brain_name]        # send all actions to tne environment\n",
    "        next_states = env_info.vector_observations         # get next state (for each agent)\n",
    "        rewards = env_info.rewards                         # get reward (for each agent)\n",
    "        dones   = env_info.local_done\n",
    "      \n",
    "        # store the result\n",
    "        state_list.append(next_states)\n",
    "        reward_list.append(rewards)\n",
    "        prob_list.append(log_probs)\n",
    "        action_list.append(actions)\n",
    "        \n",
    "        # stop if any of the trajectories is done\n",
    "        # we want all the lists to be retangular\n",
    "        states = next_states\n",
    "        if np.any(dones):\n",
    "            done = True\n",
    "            break\n",
    "\n",
    "    # return pi_theta, states, actions, rewards, probability\n",
    "    return prob_list, state_list, action_list, reward_list, done"
   ]
  },
  {
   "cell_type": "code",
   "execution_count": 56,
   "metadata": {},
   "outputs": [],
   "source": [
    "def clipped_surrogate(agent, policy, old_log_probs, states, actions, rewards_normalized, epsilon=0.05, beta=0.01):\n",
    "    \n",
    "    # convert everything into pytorch tensors and move to gpu if available\n",
    "    actions       = torch.from_numpy(np.stack(actions)).float().to(device=device)\n",
    "    states        = torch.from_numpy(np.stack(states)).float().to(device=device)\n",
    "    old_log_probs = torch.stack(old_log_probs).float().to(device=device)\n",
    "    temp_rewards  = np.stack(rewards_normalized)\n",
    "    rewards       = torch.from_numpy(np.expand_dims(temp_rewards, -1)).float().to(device=device)\n",
    "\n",
    "    # convert states to policy (or probability)\n",
    "    new_actions, new_log_probs = policy(states, actions)\n",
    "    # ratio for clipping\n",
    "    new_probs = new_log_probs.exp()\n",
    "    old_probs = old_log_probs.exp()\n",
    "    ratio = new_probs/old_probs\n",
    "    agent.writer.add_scalar('ratio',  torch.mean(ratio), agent.g_step)\n",
    "    # clipped function\n",
    "    clip = torch.clamp(ratio, 1-epsilon, 1+epsilon)\n",
    "    clipped_surrogate = torch.min(ratio*rewards, clip*rewards)\n",
    "    \n",
    "    # include a regularization term\n",
    "    # this steers new_policy towards 0.5\n",
    "    # add in 1.e-10 to avoid log(0) which gives nan  \n",
    "    entropy = -(new_probs*torch.log(old_probs+1.e-10)+ \\\n",
    "        (1.0-new_probs)*torch.log(1.0-old_probs+1.e-10))\n",
    "   \n",
    "    # this returns an average of all the entries of the tensor\n",
    "    # effective computing L_sur^clip / T\n",
    "    # averaged over time-step and number of trajectories\n",
    "    # this is desirable because we have normalized our rewards\n",
    "    loss1 = torch.mean(clipped_surrogate)\n",
    "    loss2 = torch.mean(beta*entropy)\n",
    "    agent.writer.add_scalar('surrrogate_loss',  loss1, agent.g_step)\n",
    "    agent.writer.add_scalar('entropy_loss',     loss2, agent.g_step)\n",
    "    return loss1 + loss2"
   ]
  },
  {
   "cell_type": "code",
   "execution_count": 14,
   "metadata": {},
   "outputs": [],
   "source": [
    "def normalize_reward(rewards, discount):\n",
    "    discount = discount**np.arange(len(rewards))\n",
    "    rewards = np.asarray(rewards)*discount[:,np.newaxis]\n",
    "      # convert rewards to future rewards\n",
    "    rewards_future = rewards[::-1].cumsum(axis=0)[::-1]\n",
    "    return rewards_future"
   ]
  },
  {
   "cell_type": "code",
   "execution_count": 57,
   "metadata": {},
   "outputs": [],
   "source": [
    "def normalize_reward(rewards, discount):\n",
    "    discount = discount**np.arange(len(rewards))\n",
    "    rewards = np.asarray(rewards)*discount[:,np.newaxis]\n",
    "      # convert rewards to future rewards\n",
    "    rewards_future = rewards[::-1].cumsum(axis=0)[::-1]\n",
    "\n",
    "    mean = np.mean(rewards_future, axis=1)\n",
    "    std = np.std(rewards_future, axis=1) + 1.0e-10\n",
    "    rewards_normalized = (rewards_future - mean[:,np.newaxis])/std[:,np.newaxis]\n",
    "    return rewards_normalized"
   ]
  },
  {
   "cell_type": "code",
   "execution_count": 58,
   "metadata": {},
   "outputs": [],
   "source": [
    "class Agent:\n",
    "    def __init__(self, writer):\n",
    "        self.g_step = 0\n",
    "        self.writer = writer\n"
   ]
  },
  {
   "cell_type": "code",
   "execution_count": 59,
   "metadata": {},
   "outputs": [],
   "source": [
    "def ppo(n_episodes=100, print_every=10, tmax=200, discount= 0.99, optimization_epochs=5, mini_batch_size=64, beta=0.5):\n",
    "    scores_deque = deque(maxlen=print_every)\n",
    "    scores_global = []\n",
    "    # keep track of progress\n",
    "    agent = Agent(writer)\n",
    "    for i_episode in range(1, n_episodes+1):\n",
    "        scores    = 0\n",
    "        env_info = env.reset(train_mode=True)[brain_name]\n",
    "        states   = env_info.vector_observations\n",
    "        # start all random parallel agents\n",
    "        actions = np.random.randn(num_agents, action_size) # select an action (for each agent)\n",
    "        actions = np.clip(actions, -1, 1)                  # all actions between -1 and 1\n",
    "        while True:\n",
    "            old_probs_l, states_l, actions_l, rewards_l, done = collect_trajectories(env, brain_name, policy, states, actions, num_agents, action_size, tmax=tmax)\n",
    "            step_rewards = np.sum(rewards_l, axis=0)\n",
    "            scores += step_rewards\n",
    "            if done:\n",
    "                break \n",
    "            states  = states_l[-1]\n",
    "            actions = actions_l[-1]    \n",
    "#             pdb.set_trace()\n",
    "            rewards_normalized = normalize_reward(rewards_l, discount)\n",
    "            agent.writer.add_scalar('rewards',  step_rewards[0], agent.g_step)\n",
    "            agent.writer.add_scalar('action_1', actions[0][0], agent.g_step)\n",
    "            agent.writer.add_scalar('action_2', actions[0][1], agent.g_step)\n",
    "            agent.writer.add_scalar('action_3', actions[0][2], agent.g_step)\n",
    "            agent.writer.add_scalar('action_4', actions[0][3], agent.g_step)\n",
    "            for _ in range(optimization_epochs):\n",
    "                sampler = np.random.choice(len(rewards_normalized), mini_batch_size)\n",
    "                sample_old_probs = [old_probs_l[sample] for sample in sampler]\n",
    "                sample_states    = [states_l[sample] for sample in sampler ]\n",
    "                sample_actions   = [actions_l[sample] for sample in sampler ]\n",
    "                sample_rewards   = [rewards_normalized[sample] for sample in sampler]\n",
    "#                 pdb.set_trace()\n",
    "                L = -clipped_surrogate(agent, policy, sample_old_probs, sample_states, sample_actions, sample_rewards, beta=beta)\n",
    "                agent.writer.add_scalar('loss', L, agent.g_step)\n",
    "                optimizer.zero_grad()\n",
    "                L.backward()\n",
    "                optimizer.step()\n",
    "                agent.g_step += 1\n",
    "#                 del L\n",
    "                # the regulation term also reduces\n",
    "                # this reduces exploration in later runs\n",
    "                beta *= 0.9995\n",
    "                writer.add_scalar('beta', beta, agent.g_step)\n",
    "        # get the average reward of the parallel environments           \n",
    "        score = np.mean(scores)\n",
    "        scores_deque.append(score)\n",
    "        agent.writer.add_scalar('score', score, agent.g_step)\n",
    "        score_average = np.mean(scores_deque)\n",
    "        scores_global.append(score)\n",
    "        print('\\rEpisode {}\\tAverage Score: {:.2f}'.format(i_episode, np.mean(scores_deque)), end=\"\")\n",
    "        torch.save(policy.state_dict(), 'checkpoint_ppo.pth')\n",
    "        if i_episode % print_every == 0:\n",
    "            print('\\rEpisode {}\\tAverage Score: {:.2f}'.format(i_episode, np.mean(scores_deque)))\n",
    "    return scores_global"
   ]
  },
  {
   "cell_type": "code",
   "execution_count": 68,
   "metadata": {},
   "outputs": [],
   "source": [
    "LR1_SIZE = 32\n",
    "LR2_SIZE = 16\n",
    "LR=1e-3"
   ]
  },
  {
   "cell_type": "code",
   "execution_count": 69,
   "metadata": {},
   "outputs": [],
   "source": [
    "policy=Policy(state_size=state_size, action_size=action_size, seed=88, fc1_units=LR1_SIZE, fc2_units=LR2_SIZE).to(device)\n",
    "# we use the adam optimizer with learning rate 2e-4\n",
    "# optim.SGD is also possible\n",
    "import torch.optim as optim\n",
    "optimizer = optim.Adam(policy.parameters(), lr=LR)"
   ]
  },
  {
   "cell_type": "code",
   "execution_count": 70,
   "metadata": {},
   "outputs": [],
   "source": [
    "from datetime import datetime\n",
    "\n",
    "log_location = 'runs/ppo/v3_' + str(datetime.now().strftime('%Y_%m_%d_%H_%M')) "
   ]
  },
  {
   "cell_type": "code",
   "execution_count": 71,
   "metadata": {},
   "outputs": [],
   "source": [
    "writer = SummaryWriter(log_dir=log_location)"
   ]
  },
  {
   "cell_type": "code",
   "execution_count": 72,
   "metadata": {
    "scrolled": false
   },
   "outputs": [
    {
     "name": "stdout",
     "output_type": "stream",
     "text": [
      "Episode 10\tAverage Score: 0.49\n",
      "Episode 20\tAverage Score: 0.86\n",
      "Episode 30\tAverage Score: 0.90\n",
      "Episode 40\tAverage Score: 0.90\n",
      "Episode 50\tAverage Score: 0.86\n",
      "Episode 60\tAverage Score: 0.85\n",
      "Episode 70\tAverage Score: 0.85\n",
      "Episode 80\tAverage Score: 0.90\n",
      "Episode 90\tAverage Score: 0.41\n",
      "Episode 100\tAverage Score: 0.44\n",
      "Episode 110\tAverage Score: 0.40\n",
      "Episode 120\tAverage Score: 0.50\n",
      "Episode 130\tAverage Score: 0.46\n",
      "Episode 140\tAverage Score: 0.44\n",
      "Episode 150\tAverage Score: 0.39\n",
      "Episode 160\tAverage Score: 0.42\n",
      "Episode 170\tAverage Score: 0.39\n",
      "Episode 180\tAverage Score: 0.42\n",
      "Episode 190\tAverage Score: 0.36\n",
      "Episode 200\tAverage Score: 0.40\n",
      "Episode 210\tAverage Score: 0.42\n",
      "Episode 220\tAverage Score: 0.37\n",
      "Episode 230\tAverage Score: 0.41\n",
      "Episode 240\tAverage Score: 0.44\n",
      "Episode 250\tAverage Score: 0.41\n",
      "Episode 260\tAverage Score: 0.44\n",
      "Episode 270\tAverage Score: 0.43\n",
      "Episode 280\tAverage Score: 0.43\n",
      "Episode 290\tAverage Score: 0.39\n",
      "Episode 300\tAverage Score: 0.41\n",
      "Episode 310\tAverage Score: 0.42\n",
      "Episode 320\tAverage Score: 0.37\n",
      "Episode 330\tAverage Score: 0.38\n",
      "Episode 340\tAverage Score: 0.41\n",
      "Episode 350\tAverage Score: 0.44\n",
      "Episode 360\tAverage Score: 0.39\n",
      "Episode 370\tAverage Score: 0.41\n",
      "Episode 380\tAverage Score: 0.38\n",
      "Episode 390\tAverage Score: 0.40\n",
      "Episode 400\tAverage Score: 0.40\n",
      "Episode 410\tAverage Score: 0.43\n",
      "Episode 420\tAverage Score: 0.39\n",
      "Episode 430\tAverage Score: 0.36\n",
      "Episode 440\tAverage Score: 0.39\n",
      "Episode 450\tAverage Score: 0.43\n",
      "Episode 460\tAverage Score: 0.32\n",
      "Episode 470\tAverage Score: 0.38\n",
      "Episode 480\tAverage Score: 0.35\n",
      "Episode 490\tAverage Score: 0.37\n",
      "Episode 500\tAverage Score: 0.34\n",
      "Episode 510\tAverage Score: 0.34\n",
      "Episode 520\tAverage Score: 0.33\n",
      "Episode 530\tAverage Score: 0.36\n",
      "Episode 540\tAverage Score: 0.35\n",
      "Episode 550\tAverage Score: 0.34\n",
      "Episode 560\tAverage Score: 0.38\n",
      "Episode 570\tAverage Score: 0.37\n",
      "Episode 580\tAverage Score: 0.38\n",
      "Episode 590\tAverage Score: 0.43\n",
      "Episode 600\tAverage Score: 0.40\n",
      "Episode 610\tAverage Score: 0.41\n",
      "Episode 620\tAverage Score: 0.40\n",
      "Episode 630\tAverage Score: 0.40\n",
      "Episode 640\tAverage Score: 0.38\n",
      "Episode 650\tAverage Score: 0.39\n",
      "Episode 660\tAverage Score: 0.41\n",
      "Episode 670\tAverage Score: 0.40\n",
      "Episode 680\tAverage Score: 0.36\n",
      "Episode 690\tAverage Score: 0.41\n",
      "Episode 700\tAverage Score: 0.44\n",
      "Episode 710\tAverage Score: 0.43\n",
      "Episode 720\tAverage Score: 0.46\n",
      "Episode 730\tAverage Score: 0.46\n",
      "Episode 740\tAverage Score: 0.47\n",
      "Episode 750\tAverage Score: 0.41\n",
      "Episode 760\tAverage Score: 0.45\n",
      "Episode 770\tAverage Score: 0.51\n",
      "Episode 780\tAverage Score: 0.47\n",
      "Episode 790\tAverage Score: 0.50\n",
      "Episode 800\tAverage Score: 0.53\n",
      "Episode 810\tAverage Score: 0.52\n",
      "Episode 820\tAverage Score: 0.54\n",
      "Episode 830\tAverage Score: 0.49\n",
      "Episode 840\tAverage Score: 0.51\n",
      "Episode 850\tAverage Score: 0.55\n",
      "Episode 860\tAverage Score: 0.51\n",
      "Episode 870\tAverage Score: 0.52\n",
      "Episode 880\tAverage Score: 0.57\n",
      "Episode 890\tAverage Score: 0.50\n",
      "Episode 900\tAverage Score: 0.43\n",
      "Episode 910\tAverage Score: 0.49\n",
      "Episode 920\tAverage Score: 0.46\n",
      "Episode 930\tAverage Score: 0.55\n",
      "Episode 940\tAverage Score: 0.51\n",
      "Episode 950\tAverage Score: 0.51\n",
      "Episode 960\tAverage Score: 0.48\n",
      "Episode 970\tAverage Score: 0.48\n",
      "Episode 980\tAverage Score: 0.52\n",
      "Episode 990\tAverage Score: 0.50\n",
      "Episode 1000\tAverage Score: 0.51\n",
      "Episode 1010\tAverage Score: 0.54\n",
      "Episode 1020\tAverage Score: 0.51\n",
      "Episode 1030\tAverage Score: 0.49\n",
      "Episode 1040\tAverage Score: 0.50\n",
      "Episode 1050\tAverage Score: 0.45\n",
      "Episode 1060\tAverage Score: 0.51\n",
      "Episode 1070\tAverage Score: 0.49\n",
      "Episode 1080\tAverage Score: 0.50\n",
      "Episode 1090\tAverage Score: 0.50\n",
      "Episode 1100\tAverage Score: 0.48\n",
      "Episode 1110\tAverage Score: 0.44\n",
      "Episode 1120\tAverage Score: 0.48\n",
      "Episode 1130\tAverage Score: 0.48\n",
      "Episode 1140\tAverage Score: 0.49\n",
      "Episode 1150\tAverage Score: 0.50\n",
      "Episode 1160\tAverage Score: 0.51\n",
      "Episode 1170\tAverage Score: 0.50\n",
      "Episode 1180\tAverage Score: 0.49\n",
      "Episode 1190\tAverage Score: 0.50\n",
      "Episode 1200\tAverage Score: 0.50\n",
      "Episode 1210\tAverage Score: 0.49\n",
      "Episode 1220\tAverage Score: 0.50\n",
      "Episode 1230\tAverage Score: 0.45\n",
      "Episode 1240\tAverage Score: 0.47\n",
      "Episode 1250\tAverage Score: 0.50\n",
      "Episode 1260\tAverage Score: 0.51\n",
      "Episode 1270\tAverage Score: 0.47\n",
      "Episode 1280\tAverage Score: 0.46\n",
      "Episode 1290\tAverage Score: 0.47\n",
      "Episode 1300\tAverage Score: 0.50\n",
      "Episode 1310\tAverage Score: 0.45\n",
      "Episode 1320\tAverage Score: 0.52\n",
      "Episode 1330\tAverage Score: 0.45\n",
      "Episode 1340\tAverage Score: 0.47\n",
      "Episode 1350\tAverage Score: 0.47\n",
      "Episode 1360\tAverage Score: 0.53\n",
      "Episode 1370\tAverage Score: 0.46\n",
      "Episode 1380\tAverage Score: 0.48\n",
      "Episode 1390\tAverage Score: 0.49\n",
      "Episode 1400\tAverage Score: 0.53\n",
      "Episode 1410\tAverage Score: 0.48\n",
      "Episode 1420\tAverage Score: 0.47\n",
      "Episode 1430\tAverage Score: 0.49\n",
      "Episode 1440\tAverage Score: 0.44\n",
      "Episode 1450\tAverage Score: 0.47\n",
      "Episode 1460\tAverage Score: 0.50\n",
      "Episode 1470\tAverage Score: 0.52\n",
      "Episode 1480\tAverage Score: 0.49\n",
      "Episode 1490\tAverage Score: 0.45\n",
      "Episode 1500\tAverage Score: 0.53\n",
      "Episode 1510\tAverage Score: 0.48\n",
      "Episode 1520\tAverage Score: 0.46\n",
      "Episode 1530\tAverage Score: 0.47\n",
      "Episode 1540\tAverage Score: 0.50\n",
      "Episode 1550\tAverage Score: 0.53\n",
      "Episode 1560\tAverage Score: 0.47\n",
      "Episode 1570\tAverage Score: 0.49\n",
      "Episode 1580\tAverage Score: 0.45\n",
      "Episode 1590\tAverage Score: 0.44\n",
      "Episode 1600\tAverage Score: 0.51\n",
      "Episode 1610\tAverage Score: 0.53\n",
      "Episode 1620\tAverage Score: 0.54\n",
      "Episode 1630\tAverage Score: 0.53\n",
      "Episode 1640\tAverage Score: 0.50\n",
      "Episode 1650\tAverage Score: 0.43\n",
      "Episode 1660\tAverage Score: 0.45\n",
      "Episode 1670\tAverage Score: 0.49\n",
      "Episode 1680\tAverage Score: 0.47\n",
      "Episode 1690\tAverage Score: 0.48\n",
      "Episode 1700\tAverage Score: 0.48\n",
      "Episode 1710\tAverage Score: 0.46\n",
      "Episode 1720\tAverage Score: 0.48\n",
      "Episode 1730\tAverage Score: 0.51\n",
      "Episode 1740\tAverage Score: 0.49\n",
      "Episode 1750\tAverage Score: 0.48\n",
      "Episode 1760\tAverage Score: 0.52\n",
      "Episode 1770\tAverage Score: 0.51\n",
      "Episode 1780\tAverage Score: 0.49\n",
      "Episode 1790\tAverage Score: 0.44\n",
      "Episode 1800\tAverage Score: 0.50\n",
      "Episode 1810\tAverage Score: 0.45\n",
      "Episode 1820\tAverage Score: 0.49\n",
      "Episode 1830\tAverage Score: 0.49\n",
      "Episode 1840\tAverage Score: 0.51\n",
      "Episode 1850\tAverage Score: 0.45\n",
      "Episode 1860\tAverage Score: 0.51\n",
      "Episode 1870\tAverage Score: 0.51\n",
      "Episode 1880\tAverage Score: 0.56\n",
      "Episode 1890\tAverage Score: 0.48\n",
      "Episode 1900\tAverage Score: 0.49\n",
      "Episode 1910\tAverage Score: 0.46\n",
      "Episode 1920\tAverage Score: 0.53\n",
      "Episode 1930\tAverage Score: 0.46\n",
      "Episode 1940\tAverage Score: 0.49\n",
      "Episode 1950\tAverage Score: 0.48\n",
      "Episode 1960\tAverage Score: 0.43\n",
      "Episode 1970\tAverage Score: 0.47\n",
      "Episode 1980\tAverage Score: 0.48\n",
      "Episode 1990\tAverage Score: 0.50\n",
      "Episode 2000\tAverage Score: 0.49\n"
     ]
    }
   ],
   "source": [
    "scores = ppo(n_episodes=2000, tmax=100, optimization_epochs=1, mini_batch_size=100, beta=0.05)"
   ]
  },
  {
   "cell_type": "code",
   "execution_count": 74,
   "metadata": {},
   "outputs": [
    {
     "data": {
      "text/plain": [
       "array([0.48999999, 0.66999999, 0.50999999, 0.95999998, 0.43999999,\n",
       "       0.41999999, 0.77999998, 0.59999999, 0.25999999, 0.77999998,\n",
       "       1.13999997, 0.55999999, 0.22      , 0.73999998, 0.1       ,\n",
       "       0.63999999, 0.33999999, 0.36999999, 0.18      , 0.52999999])"
      ]
     },
     "execution_count": 74,
     "metadata": {},
     "output_type": "execute_result"
    }
   ],
   "source": [
    "scores"
   ]
  },
  {
   "cell_type": "code",
   "execution_count": 73,
   "metadata": {},
   "outputs": [
    {
     "data": {
      "image/png": "[encoded data removed]",
      "text/plain": [
       "<Figure size 432x288 with 1 Axes>"
      ]
     },
     "metadata": {
      "needs_background": "light"
     },
     "output_type": "display_data"
    }
   ],
   "source": [
    "fig = plt.figure()\n",
    "ax = fig.add_subplot(111)\n",
    "plt.plot(np.arange(1, len(scores)+1), scores)\n",
    "plt.ylabel('Score')\n",
    "plt.xlabel('Episode #')\n",
    "plt.show()"
   ]
  },
  {
   "cell_type": "code",
   "execution_count": 76,
   "metadata": {},
   "outputs": [],
   "source": [
    "env.close()"
   ]
  },
  {
   "cell_type": "code",
   "execution_count": null,
   "metadata": {},
   "outputs": [],
   "source": []
  }
 ],
 "metadata": {
  "kernelspec": {
   "display_name": "drlnd",
   "language": "python",
   "name": "drlnd"
  },
  "language_info": {
   "codemirror_mode": {
    "name": "ipython",
    "version": 3
   },
   "file_extension": ".py",
   "mimetype": "text/x-python",
   "name": "python",
   "nbconvert_exporter": "python",
   "pygments_lexer": "ipython3",
   "version": "3.6.10"
  }
 },
 "nbformat": 4,
 "nbformat_minor": 2
}
